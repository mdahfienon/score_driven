{
 "cells": [
  {
   "cell_type": "markdown",
   "metadata": {
    "vscode": {
     "languageId": "r"
    }
   },
   "source": [
    "## Dynamic risk parity portfolio with independent components\n",
    "\n",
    "### Exploring the feasibility"
   ]
  },
  {
   "cell_type": "code",
   "execution_count": 3,
   "metadata": {
    "vscode": {
     "languageId": "r"
    }
   },
   "outputs": [],
   "source": [
    "eur_usd <- readxl::read_excel(\"score_data.xlsx\", sheet = 1, \n",
    "col_types = c(\"text\", \"numeric\", \"numeric\", \"numeric\", \"numeric\"))\n",
    "eur_usd$date <- as.Date(eur_usd$date)\n",
    "eur_usd <- eur_usd[order(eur_usd$date),]\n",
    "\n",
    "gbp_usd <- readxl::read_excel(\"score_data.xlsx\", sheet = 2,\n",
    "col_types = c(\"text\", \"numeric\", \"numeric\", \"numeric\", \"numeric\"))\n",
    "gbp_usd$date <- as.Date(gbp_usd$date)\n",
    "gbp_usd <- gbp_usd[order(gbp_usd$date),]\n",
    "\n",
    "\n",
    "data <- as.data.frame(cbind(eur_usd$close, gbp_usd$close))  \n",
    "data <-cbind(eur_usd$date, data) \n",
    "colnames(data) <- c(\"date\", \"euro\", \"gbp\")\n",
    "\n",
    "\n",
    "returns <- as.data.frame(cbind(diff(log(data$euro)), diff(log(data$gbp))))\n",
    "returns <- cbind(data$date[2:4956], returns)\n",
    "colnames(returns) <- c(\"date\", \"euro\", \"gbp\")\n",
    "returns$euro <- returns$euro - mean(returns$euro)\n",
    "returns$gbp <- returns$gbp - mean(returns$gbp)\n",
    "\n",
    "use_data <- cbind(returns$euro, returns$gbp)\n",
    "\n"
   ]
  }
 ],
 "metadata": {
  "kernelspec": {
   "display_name": "R",
   "language": "R",
   "name": "ir"
  },
  "language_info": {
   "codemirror_mode": "r",
   "file_extension": ".r",
   "mimetype": "text/x-r-source",
   "name": "R",
   "pygments_lexer": "r",
   "version": "4.4.1"
  }
 },
 "nbformat": 4,
 "nbformat_minor": 2
}
