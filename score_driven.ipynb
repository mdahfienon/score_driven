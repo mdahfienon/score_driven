{
 "cells": [
  {
   "cell_type": "markdown",
   "metadata": {
    "vscode": {
     "languageId": "r"
    }
   },
   "source": [
    "## Dynamic risk parity portfolio with independent components\n",
    "\n",
    "### Exploring the feasibility"
   ]
  },
  {
   "cell_type": "code",
   "execution_count": 1,
   "metadata": {
    "vscode": {
     "languageId": "r"
    }
   },
   "outputs": [],
   "source": [
    "eur_usd <- readxl::read_excel(\"score_data.xlsx\", sheet = 1,\n",
    "                              col_types = c(\"text\", \"numeric\",\n",
    "                                            \"numeric\", \"numeric\", \"numeric\"))\n",
    "eur_usd$date <- as.Date(eur_usd$date)\n",
    "eur_usd <- eur_usd[order(eur_usd$date), ]\n",
    "\n",
    "gbp_usd <- readxl::read_excel(\"score_data.xlsx\", sheet = 2,\n",
    "                              col_types = c(\"text\", \"numeric\",\n",
    "                                            \"numeric\", \"numeric\", \"numeric\"))\n",
    "gbp_usd$date <- as.Date(gbp_usd$date)\n",
    "gbp_usd <- gbp_usd[order(gbp_usd$date), ]\n",
    "\n",
    "\n",
    "data <- as.data.frame(cbind(eur_usd$close, gbp_usd$close))\n",
    "data <- cbind(eur_usd$date, data)\n",
    "colnames(data) <- c(\"date\", \"euro\", \"gbp\")\n",
    "\n",
    "\n",
    "returns <- as.data.frame(cbind(diff(log(data$euro)), diff(log(data$gbp))))\n",
    "returns <- cbind(data$date[2:4956], returns)\n",
    "colnames(returns) <- c(\"date\", \"euro\", \"gbp\")\n",
    "returns$euro <- returns$euro - mean(returns$euro)\n",
    "returns$gbp <- returns$gbp - mean(returns$gbp)\n",
    "\n",
    "use_data <- cbind(\"euro\" = returns$euro, \"gbp\" = returns$gbp)"
   ]
  },
  {
   "cell_type": "code",
   "execution_count": 2,
   "metadata": {
    "vscode": {
     "languageId": "r"
    }
   },
   "outputs": [
    {
     "name": "stdout",
     "output_type": "stream",
     "text": [
      "\n",
      "BEKK estimation results\n",
      "-----------------------\n",
      "Log-likelihood: 38932.9\n",
      "BEKK model stationary: TRUE\n",
      "Number of BHHH iterations: 16\n",
      "AIC: -77846.8\n",
      "BIC: -77836.28\n",
      "Estimated parameter matrices: \n",
      "\n",
      "C \n",
      "             [,1]         [,2]\n",
      "[1,] 0.0003248215 0.0000000000\n",
      "[2,] 0.0003345089 0.0003648545\n",
      "\n",
      "A \n",
      "           [,1]        [,2]\n",
      "[1,] 0.14277107 -0.05119239\n",
      "[2,] 0.01691992  0.22838482\n",
      "\n",
      "G \n",
      "             [,1]       [,2]\n",
      "[1,]  0.990045597 0.01128332\n",
      "[2,] -0.005566672 0.96897109\n",
      "\n",
      "Standard errors of parameter matrices: \n",
      "\n",
      "C \n",
      "             [,1]         [,2]\n",
      "[1,] 8.499743e-05 0.000000e+00\n",
      "[2,] 1.801753e-04 6.719683e-05\n",
      "\n",
      "A \n",
      "           [,1]       [,2]\n",
      "[1,] 0.03539590 0.04854348\n",
      "[2,] 0.05985017 0.07810173\n",
      "\n",
      "G \n",
      "            [,1]        [,2]\n",
      "[1,] 0.006912313 0.009294084\n",
      "[2,] 0.013014520 0.017580439\n",
      "\n"
     ]
    }
   ],
   "source": [
    "obj_spec <- BEKKs::bekk_spec()\n",
    "x1 <- BEKKs::bekk_fit(obj_spec, use_data, QML_t_ratios = TRUE)\n",
    "\n",
    "summary(x1)\n",
    "\n",
    "residuals <- x1$e_t"
   ]
  },
  {
   "cell_type": "code",
   "execution_count": 11,
   "metadata": {
    "vscode": {
     "languageId": "r"
    }
   },
   "outputs": [
    {
     "data": {
      "image/png": "[encoded data removed]",
      "text/plain": [
       "Plot with title \"Density of Residuals\""
      ]
     },
     "metadata": {
      "image/png": {
       "height": 420,
       "width": 420
      }
     },
     "output_type": "display_data"
    }
   ],
   "source": [
    "plot(density(residuals[, 1]), col = \"red\", main = \"Density of Residuals\",\n",
    "     xlab = \"residuals\", ylab = \"density\")\n",
    "\n",
    "lines(density(residuals[, 2]), col = \"blue\")\n",
    "legend(\"topright\", legend = c(\"euro\", \"gbp\"), col = c(\"red\", \"blue\"), lty = 1)"
   ]
  }
 ],
 "metadata": {
  "kernelspec": {
   "display_name": "R",
   "language": "R",
   "name": "ir"
  },
  "language_info": {
   "codemirror_mode": "r",
   "file_extension": ".r",
   "mimetype": "text/x-r-source",
   "name": "R",
   "pygments_lexer": "r",
   "version": "4.4.1"
  }
 },
 "nbformat": 4,
 "nbformat_minor": 2
}
